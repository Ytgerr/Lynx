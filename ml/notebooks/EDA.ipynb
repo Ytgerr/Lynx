{
 "cells": [
  {
   "cell_type": "markdown",
   "id": "8fc4ebee",
   "metadata": {},
   "source": [
    "### Exploratory data analysis"
   ]
  }
 ],
 "metadata": {
  "language_info": {
   "name": "python"
  }
 },
 "nbformat": 4,
 "nbformat_minor": 5
}
